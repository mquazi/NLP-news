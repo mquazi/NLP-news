{
 "cells": [
  {
   "cell_type": "markdown",
   "metadata": {},
   "source": [
    "## This code performs an analysis of news articles-related data using Natural Language Processing. \n",
    "### Data is from https://drive.google.com/file/d/15X00ZWBjla7qGOIW33j8865QdF89IyAk/view. The data is collected for duration of 2008/2016. \n",
    "### Variables/attributes are: \n",
    "* time_created - time at which the article title was created\n",
    "* date_created - date at which the article title was created    \n",
    "* up_votes - number of upvotes on the article, this is equivalent of likes on facebook\n",
    "* down_votes - number of downvotes on the article, this is equivalent of dislikes on youtube videos\n",
    "* title - Title of the news article       \n",
    "* over_18 - True if the title is only suitable for adults, otherwise False \n",
    "* author - I would assume this is the journalist who wrote the article \n",
    "* category - The category to which the article belongs, they all belong to worldwide category of news\n",
    "\n",
    "### Problem definition: The article was created on a weekend or not is our target variable i:e we want to know if this variable is predicted correctly or not based off of other variables. \n"
   ]
  },
  {
   "cell_type": "markdown",
   "metadata": {},
   "source": [
    "#### Import libraries and import data from the link "
   ]
  },
  {
   "cell_type": "code",
   "execution_count": 152,
   "metadata": {},
   "outputs": [
    {
     "name": "stdout",
     "output_type": "stream",
     "text": [
      "   time_created date_created  up_votes  down_votes  \\\n",
      "0    1201232046   2008-01-25         3           0   \n",
      "1    1201232075   2008-01-25         2           0   \n",
      "2    1201232523   2008-01-25         3           0   \n",
      "3    1201233290   2008-01-25         1           0   \n",
      "4    1201274720   2008-01-25         4           0   \n",
      "\n",
      "                                             title  over_18    author  \\\n",
      "0                Scores killed in Pakistan clashes    False     polar   \n",
      "1                 Japan resumes refuelling mission    False     polar   \n",
      "2                  US presses Egypt on Gaza border    False     polar   \n",
      "3     Jump-start economy: Give health care to all     False   fadi420   \n",
      "4  Council of Europe bashes EU&UN terror blacklist    False  mhermans   \n",
      "\n",
      "    category  \n",
      "0  worldnews  \n",
      "1  worldnews  \n",
      "2  worldnews  \n",
      "3  worldnews  \n",
      "4  worldnews  \n"
     ]
    }
   ],
   "source": [
    "import numpy as np\n",
    "import pandas as pd\n",
    "import matplotlib.pyplot as plt\n",
    "import seaborn as sns\n",
    "import requests\n",
    "from io import StringIO\n",
    "\n",
    "orig_url='https://drive.google.com/file/d/15X00ZWBjla7qGOIW33j8865QdF89IyAk/view'\n",
    "\n",
    "file_id = orig_url.split('/')[-2]\n",
    "dwn_url='https://drive.google.com/uc?export=download&id=' + file_id\n",
    "url = requests.get(dwn_url).text\n",
    "csv_raw = StringIO(url)\n",
    "dfs = pd.read_csv(csv_raw)\n",
    "print(dfs.head())"
   ]
  },
  {
   "cell_type": "markdown",
   "metadata": {},
   "source": [
    "#### Preliminary data analysis and feature engineering "
   ]
  },
  {
   "cell_type": "code",
   "execution_count": 153,
   "metadata": {},
   "outputs": [
    {
     "data": {
      "text/html": [
       "<div>\n",
       "<style scoped>\n",
       "    .dataframe tbody tr th:only-of-type {\n",
       "        vertical-align: middle;\n",
       "    }\n",
       "\n",
       "    .dataframe tbody tr th {\n",
       "        vertical-align: top;\n",
       "    }\n",
       "\n",
       "    .dataframe thead th {\n",
       "        text-align: right;\n",
       "    }\n",
       "</style>\n",
       "<table border=\"1\" class=\"dataframe\">\n",
       "  <thead>\n",
       "    <tr style=\"text-align: right;\">\n",
       "      <th></th>\n",
       "      <th>time_created</th>\n",
       "      <th>date_created</th>\n",
       "      <th>up_votes</th>\n",
       "      <th>down_votes</th>\n",
       "      <th>title</th>\n",
       "      <th>over_18</th>\n",
       "      <th>author</th>\n",
       "      <th>category</th>\n",
       "    </tr>\n",
       "  </thead>\n",
       "  <tbody>\n",
       "    <tr>\n",
       "      <th>0</th>\n",
       "      <td>1201232046</td>\n",
       "      <td>2008-01-25</td>\n",
       "      <td>3</td>\n",
       "      <td>0</td>\n",
       "      <td>Scores killed in Pakistan clashes</td>\n",
       "      <td>False</td>\n",
       "      <td>polar</td>\n",
       "      <td>worldnews</td>\n",
       "    </tr>\n",
       "    <tr>\n",
       "      <th>1</th>\n",
       "      <td>1201232075</td>\n",
       "      <td>2008-01-25</td>\n",
       "      <td>2</td>\n",
       "      <td>0</td>\n",
       "      <td>Japan resumes refuelling mission</td>\n",
       "      <td>False</td>\n",
       "      <td>polar</td>\n",
       "      <td>worldnews</td>\n",
       "    </tr>\n",
       "    <tr>\n",
       "      <th>2</th>\n",
       "      <td>1201232523</td>\n",
       "      <td>2008-01-25</td>\n",
       "      <td>3</td>\n",
       "      <td>0</td>\n",
       "      <td>US presses Egypt on Gaza border</td>\n",
       "      <td>False</td>\n",
       "      <td>polar</td>\n",
       "      <td>worldnews</td>\n",
       "    </tr>\n",
       "    <tr>\n",
       "      <th>3</th>\n",
       "      <td>1201233290</td>\n",
       "      <td>2008-01-25</td>\n",
       "      <td>1</td>\n",
       "      <td>0</td>\n",
       "      <td>Jump-start economy: Give health care to all</td>\n",
       "      <td>False</td>\n",
       "      <td>fadi420</td>\n",
       "      <td>worldnews</td>\n",
       "    </tr>\n",
       "    <tr>\n",
       "      <th>4</th>\n",
       "      <td>1201274720</td>\n",
       "      <td>2008-01-25</td>\n",
       "      <td>4</td>\n",
       "      <td>0</td>\n",
       "      <td>Council of Europe bashes EU&amp;UN terror blacklist</td>\n",
       "      <td>False</td>\n",
       "      <td>mhermans</td>\n",
       "      <td>worldnews</td>\n",
       "    </tr>\n",
       "  </tbody>\n",
       "</table>\n",
       "</div>"
      ],
      "text/plain": [
       "   time_created date_created  up_votes  down_votes  \\\n",
       "0    1201232046   2008-01-25         3           0   \n",
       "1    1201232075   2008-01-25         2           0   \n",
       "2    1201232523   2008-01-25         3           0   \n",
       "3    1201233290   2008-01-25         1           0   \n",
       "4    1201274720   2008-01-25         4           0   \n",
       "\n",
       "                                             title  over_18    author  \\\n",
       "0                Scores killed in Pakistan clashes    False     polar   \n",
       "1                 Japan resumes refuelling mission    False     polar   \n",
       "2                  US presses Egypt on Gaza border    False     polar   \n",
       "3     Jump-start economy: Give health care to all     False   fadi420   \n",
       "4  Council of Europe bashes EU&UN terror blacklist    False  mhermans   \n",
       "\n",
       "    category  \n",
       "0  worldnews  \n",
       "1  worldnews  \n",
       "2  worldnews  \n",
       "3  worldnews  \n",
       "4  worldnews  "
      ]
     },
     "execution_count": 153,
     "metadata": {},
     "output_type": "execute_result"
    }
   ],
   "source": [
    "dfs.head()"
   ]
  },
  {
   "cell_type": "code",
   "execution_count": 154,
   "metadata": {},
   "outputs": [
    {
     "name": "stdout",
     "output_type": "stream",
     "text": [
      "<class 'pandas.core.frame.DataFrame'>\n",
      "RangeIndex: 509236 entries, 0 to 509235\n",
      "Data columns (total 8 columns):\n",
      " #   Column        Non-Null Count   Dtype \n",
      "---  ------        --------------   ----- \n",
      " 0   time_created  509236 non-null  int64 \n",
      " 1   date_created  509236 non-null  object\n",
      " 2   up_votes      509236 non-null  int64 \n",
      " 3   down_votes    509236 non-null  int64 \n",
      " 4   title         509236 non-null  object\n",
      " 5   over_18       509236 non-null  bool  \n",
      " 6   author        509236 non-null  object\n",
      " 7   category      509236 non-null  object\n",
      "dtypes: bool(1), int64(3), object(4)\n",
      "memory usage: 27.7+ MB\n"
     ]
    }
   ],
   "source": [
    "dfs.info() ## No missing cells, data points..."
   ]
  },
  {
   "cell_type": "code",
   "execution_count": 155,
   "metadata": {},
   "outputs": [
    {
     "data": {
      "text/html": [
       "<div>\n",
       "<style scoped>\n",
       "    .dataframe tbody tr th:only-of-type {\n",
       "        vertical-align: middle;\n",
       "    }\n",
       "\n",
       "    .dataframe tbody tr th {\n",
       "        vertical-align: top;\n",
       "    }\n",
       "\n",
       "    .dataframe thead th {\n",
       "        text-align: right;\n",
       "    }\n",
       "</style>\n",
       "<table border=\"1\" class=\"dataframe\">\n",
       "  <thead>\n",
       "    <tr style=\"text-align: right;\">\n",
       "      <th></th>\n",
       "      <th>time_created</th>\n",
       "      <th>up_votes</th>\n",
       "      <th>down_votes</th>\n",
       "    </tr>\n",
       "  </thead>\n",
       "  <tbody>\n",
       "    <tr>\n",
       "      <th>count</th>\n",
       "      <td>5.092360e+05</td>\n",
       "      <td>509236.000000</td>\n",
       "      <td>509236.0</td>\n",
       "    </tr>\n",
       "    <tr>\n",
       "      <th>mean</th>\n",
       "      <td>1.380240e+09</td>\n",
       "      <td>112.236283</td>\n",
       "      <td>0.0</td>\n",
       "    </tr>\n",
       "    <tr>\n",
       "      <th>std</th>\n",
       "      <td>7.090436e+07</td>\n",
       "      <td>541.694675</td>\n",
       "      <td>0.0</td>\n",
       "    </tr>\n",
       "    <tr>\n",
       "      <th>min</th>\n",
       "      <td>1.201232e+09</td>\n",
       "      <td>0.000000</td>\n",
       "      <td>0.0</td>\n",
       "    </tr>\n",
       "    <tr>\n",
       "      <th>25%</th>\n",
       "      <td>1.341585e+09</td>\n",
       "      <td>1.000000</td>\n",
       "      <td>0.0</td>\n",
       "    </tr>\n",
       "    <tr>\n",
       "      <th>50%</th>\n",
       "      <td>1.392909e+09</td>\n",
       "      <td>5.000000</td>\n",
       "      <td>0.0</td>\n",
       "    </tr>\n",
       "    <tr>\n",
       "      <th>75%</th>\n",
       "      <td>1.436527e+09</td>\n",
       "      <td>16.000000</td>\n",
       "      <td>0.0</td>\n",
       "    </tr>\n",
       "    <tr>\n",
       "      <th>max</th>\n",
       "      <td>1.479817e+09</td>\n",
       "      <td>21253.000000</td>\n",
       "      <td>0.0</td>\n",
       "    </tr>\n",
       "  </tbody>\n",
       "</table>\n",
       "</div>"
      ],
      "text/plain": [
       "       time_created       up_votes  down_votes\n",
       "count  5.092360e+05  509236.000000    509236.0\n",
       "mean   1.380240e+09     112.236283         0.0\n",
       "std    7.090436e+07     541.694675         0.0\n",
       "min    1.201232e+09       0.000000         0.0\n",
       "25%    1.341585e+09       1.000000         0.0\n",
       "50%    1.392909e+09       5.000000         0.0\n",
       "75%    1.436527e+09      16.000000         0.0\n",
       "max    1.479817e+09   21253.000000         0.0"
      ]
     },
     "execution_count": 155,
     "metadata": {},
     "output_type": "execute_result"
    }
   ],
   "source": [
    "dfs.describe() ## Looks like smallest down vote possible is 0 and can't go into negative values..."
   ]
  },
  {
   "cell_type": "code",
   "execution_count": 156,
   "metadata": {},
   "outputs": [
    {
     "data": {
      "text/html": [
       "<div>\n",
       "<style scoped>\n",
       "    .dataframe tbody tr th:only-of-type {\n",
       "        vertical-align: middle;\n",
       "    }\n",
       "\n",
       "    .dataframe tbody tr th {\n",
       "        vertical-align: top;\n",
       "    }\n",
       "\n",
       "    .dataframe thead th {\n",
       "        text-align: right;\n",
       "    }\n",
       "</style>\n",
       "<table border=\"1\" class=\"dataframe\">\n",
       "  <thead>\n",
       "    <tr style=\"text-align: right;\">\n",
       "      <th></th>\n",
       "      <th>time_created</th>\n",
       "      <th>date_created</th>\n",
       "      <th>up_votes</th>\n",
       "      <th>down_votes</th>\n",
       "      <th>title</th>\n",
       "      <th>over_18</th>\n",
       "      <th>author</th>\n",
       "      <th>category</th>\n",
       "    </tr>\n",
       "  </thead>\n",
       "  <tbody>\n",
       "    <tr>\n",
       "      <th>377200</th>\n",
       "      <td>1434818471</td>\n",
       "      <td>2015-06-20</td>\n",
       "      <td>21253</td>\n",
       "      <td>0</td>\n",
       "      <td>A biotech startup has managed to 3-D print fak...</td>\n",
       "      <td>False</td>\n",
       "      <td>KRISHNA53</td>\n",
       "      <td>worldnews</td>\n",
       "    </tr>\n",
       "    <tr>\n",
       "      <th>391415</th>\n",
       "      <td>1440421079</td>\n",
       "      <td>2015-08-24</td>\n",
       "      <td>13435</td>\n",
       "      <td>0</td>\n",
       "      <td>Twitter has forced 30 websites that archive po...</td>\n",
       "      <td>False</td>\n",
       "      <td>joeyoungblood</td>\n",
       "      <td>worldnews</td>\n",
       "    </tr>\n",
       "    <tr>\n",
       "      <th>450818</th>\n",
       "      <td>1459706506</td>\n",
       "      <td>2016-04-03</td>\n",
       "      <td>13244</td>\n",
       "      <td>0</td>\n",
       "      <td>2.6 terabyte leak of Panamanian shell company ...</td>\n",
       "      <td>False</td>\n",
       "      <td>mister_geaux</td>\n",
       "      <td>worldnews</td>\n",
       "    </tr>\n",
       "    <tr>\n",
       "      <th>391318</th>\n",
       "      <td>1440367768</td>\n",
       "      <td>2015-08-23</td>\n",
       "      <td>12333</td>\n",
       "      <td>0</td>\n",
       "      <td>The police officer who leaked the footage of t...</td>\n",
       "      <td>False</td>\n",
       "      <td>navysealassulter</td>\n",
       "      <td>worldnews</td>\n",
       "    </tr>\n",
       "    <tr>\n",
       "      <th>390252</th>\n",
       "      <td>1439939168</td>\n",
       "      <td>2015-08-18</td>\n",
       "      <td>11288</td>\n",
       "      <td>0</td>\n",
       "      <td>Paris shooting survivor suing French media for...</td>\n",
       "      <td>False</td>\n",
       "      <td>seapiglet</td>\n",
       "      <td>worldnews</td>\n",
       "    </tr>\n",
       "    <tr>\n",
       "      <th>...</th>\n",
       "      <td>...</td>\n",
       "      <td>...</td>\n",
       "      <td>...</td>\n",
       "      <td>...</td>\n",
       "      <td>...</td>\n",
       "      <td>...</td>\n",
       "      <td>...</td>\n",
       "      <td>...</td>\n",
       "    </tr>\n",
       "    <tr>\n",
       "      <th>220099</th>\n",
       "      <td>1381644882</td>\n",
       "      <td>2013-10-13</td>\n",
       "      <td>0</td>\n",
       "      <td>0</td>\n",
       "      <td>Chinese Premier Li Keqiang has been granted th...</td>\n",
       "      <td>False</td>\n",
       "      <td>davidreiss666</td>\n",
       "      <td>worldnews</td>\n",
       "    </tr>\n",
       "    <tr>\n",
       "      <th>431262</th>\n",
       "      <td>1453107414</td>\n",
       "      <td>2016-01-18</td>\n",
       "      <td>0</td>\n",
       "      <td>0</td>\n",
       "      <td>Taliban denies role in latest Afghanistan bombing</td>\n",
       "      <td>False</td>\n",
       "      <td>raziinuaq</td>\n",
       "      <td>worldnews</td>\n",
       "    </tr>\n",
       "    <tr>\n",
       "      <th>220101</th>\n",
       "      <td>1381645228</td>\n",
       "      <td>2013-10-13</td>\n",
       "      <td>0</td>\n",
       "      <td>0</td>\n",
       "      <td>Possible lead in Madeleine McCann case</td>\n",
       "      <td>False</td>\n",
       "      <td>CristabelYYC</td>\n",
       "      <td>worldnews</td>\n",
       "    </tr>\n",
       "    <tr>\n",
       "      <th>431259</th>\n",
       "      <td>1453107145</td>\n",
       "      <td>2016-01-18</td>\n",
       "      <td>0</td>\n",
       "      <td>0</td>\n",
       "      <td>Suicide Attack Kills at Least 13 in Afghanistan</td>\n",
       "      <td>False</td>\n",
       "      <td>middleeastnewsman</td>\n",
       "      <td>worldnews</td>\n",
       "    </tr>\n",
       "    <tr>\n",
       "      <th>254618</th>\n",
       "      <td>1392908762</td>\n",
       "      <td>2014-02-20</td>\n",
       "      <td>0</td>\n",
       "      <td>0</td>\n",
       "      <td>Ukraine protesters take 67 policemen hostage -...</td>\n",
       "      <td>False</td>\n",
       "      <td>mystikalhereigo</td>\n",
       "      <td>worldnews</td>\n",
       "    </tr>\n",
       "  </tbody>\n",
       "</table>\n",
       "<p>509236 rows × 8 columns</p>\n",
       "</div>"
      ],
      "text/plain": [
       "        time_created date_created  up_votes  down_votes  \\\n",
       "377200    1434818471   2015-06-20     21253           0   \n",
       "391415    1440421079   2015-08-24     13435           0   \n",
       "450818    1459706506   2016-04-03     13244           0   \n",
       "391318    1440367768   2015-08-23     12333           0   \n",
       "390252    1439939168   2015-08-18     11288           0   \n",
       "...              ...          ...       ...         ...   \n",
       "220099    1381644882   2013-10-13         0           0   \n",
       "431262    1453107414   2016-01-18         0           0   \n",
       "220101    1381645228   2013-10-13         0           0   \n",
       "431259    1453107145   2016-01-18         0           0   \n",
       "254618    1392908762   2014-02-20         0           0   \n",
       "\n",
       "                                                    title  over_18  \\\n",
       "377200  A biotech startup has managed to 3-D print fak...    False   \n",
       "391415  Twitter has forced 30 websites that archive po...    False   \n",
       "450818  2.6 terabyte leak of Panamanian shell company ...    False   \n",
       "391318  The police officer who leaked the footage of t...    False   \n",
       "390252  Paris shooting survivor suing French media for...    False   \n",
       "...                                                   ...      ...   \n",
       "220099  Chinese Premier Li Keqiang has been granted th...    False   \n",
       "431262  Taliban denies role in latest Afghanistan bombing    False   \n",
       "220101             Possible lead in Madeleine McCann case    False   \n",
       "431259    Suicide Attack Kills at Least 13 in Afghanistan    False   \n",
       "254618  Ukraine protesters take 67 policemen hostage -...    False   \n",
       "\n",
       "                   author   category  \n",
       "377200          KRISHNA53  worldnews  \n",
       "391415      joeyoungblood  worldnews  \n",
       "450818       mister_geaux  worldnews  \n",
       "391318   navysealassulter  worldnews  \n",
       "390252          seapiglet  worldnews  \n",
       "...                   ...        ...  \n",
       "220099      davidreiss666  worldnews  \n",
       "431262          raziinuaq  worldnews  \n",
       "220101       CristabelYYC  worldnews  \n",
       "431259  middleeastnewsman  worldnews  \n",
       "254618    mystikalhereigo  worldnews  \n",
       "\n",
       "[509236 rows x 8 columns]"
      ]
     },
     "execution_count": 156,
     "metadata": {},
     "output_type": "execute_result"
    }
   ],
   "source": [
    "dfs.sort_values(by=['up_votes'], ascending=False, na_position='first') \n",
    "## Biotech article by KRISHNA53 has got the highest upvotes out of all the article titles..."
   ]
  },
  {
   "cell_type": "markdown",
   "metadata": {},
   "source": [
    "#### Extract text length of titles "
   ]
  },
  {
   "cell_type": "code",
   "execution_count": 157,
   "metadata": {},
   "outputs": [],
   "source": [
    "dfs['text length'] = dfs['title'].apply(len)"
   ]
  },
  {
   "cell_type": "code",
   "execution_count": 158,
   "metadata": {},
   "outputs": [],
   "source": [
    "sns.set_style('white')\n",
    "%matplotlib inline"
   ]
  },
  {
   "cell_type": "code",
   "execution_count": 159,
   "metadata": {},
   "outputs": [
    {
     "data": {
      "text/plain": [
       "<seaborn.axisgrid.FacetGrid at 0x1a4f7550d0>"
      ]
     },
     "execution_count": 159,
     "metadata": {},
     "output_type": "execute_result"
    },
    {
     "data": {
      "image/png": "[encoded data removed]",
      "text/plain": [
       "<Figure size 216x216 with 1 Axes>"
      ]
     },
     "metadata": {
      "needs_background": "light"
     },
     "output_type": "display_data"
    }
   ],
   "source": [
    "g = sns.FacetGrid(dfs)\n",
    "g.map(plt.hist,'text length')"
   ]
  },
  {
   "cell_type": "code",
   "execution_count": 160,
   "metadata": {},
   "outputs": [
    {
     "data": {
      "text/plain": [
       "count    509236.000000\n",
       "mean         89.746999\n",
       "std          59.929427\n",
       "min           1.000000\n",
       "25%          52.000000\n",
       "50%          66.000000\n",
       "75%         100.000000\n",
       "max         323.000000\n",
       "Name: text length, dtype: float64"
      ]
     },
     "execution_count": 160,
     "metadata": {},
     "output_type": "execute_result"
    }
   ],
   "source": [
    "dfs['text length'].describe() \n",
    "## The article from KRISHNA53 is among the lengthiest article titles (top 25th percentile) with 289 words... \n",
    "## whereas the max length is 323... "
   ]
  },
  {
   "cell_type": "code",
   "execution_count": 161,
   "metadata": {},
   "outputs": [
    {
     "data": {
      "text/html": [
       "<div>\n",
       "<style scoped>\n",
       "    .dataframe tbody tr th:only-of-type {\n",
       "        vertical-align: middle;\n",
       "    }\n",
       "\n",
       "    .dataframe tbody tr th {\n",
       "        vertical-align: top;\n",
       "    }\n",
       "\n",
       "    .dataframe thead tr th {\n",
       "        text-align: left;\n",
       "    }\n",
       "\n",
       "    .dataframe thead tr:last-of-type th {\n",
       "        text-align: right;\n",
       "    }\n",
       "</style>\n",
       "<table border=\"1\" class=\"dataframe\">\n",
       "  <thead>\n",
       "    <tr>\n",
       "      <th></th>\n",
       "      <th colspan=\"8\" halign=\"left\">time_created</th>\n",
       "      <th colspan=\"2\" halign=\"left\">up_votes</th>\n",
       "      <th>...</th>\n",
       "      <th colspan=\"2\" halign=\"left\">down_votes</th>\n",
       "      <th colspan=\"8\" halign=\"left\">text length</th>\n",
       "    </tr>\n",
       "    <tr>\n",
       "      <th></th>\n",
       "      <th>count</th>\n",
       "      <th>mean</th>\n",
       "      <th>std</th>\n",
       "      <th>min</th>\n",
       "      <th>25%</th>\n",
       "      <th>50%</th>\n",
       "      <th>75%</th>\n",
       "      <th>max</th>\n",
       "      <th>count</th>\n",
       "      <th>mean</th>\n",
       "      <th>...</th>\n",
       "      <th>75%</th>\n",
       "      <th>max</th>\n",
       "      <th>count</th>\n",
       "      <th>mean</th>\n",
       "      <th>std</th>\n",
       "      <th>min</th>\n",
       "      <th>25%</th>\n",
       "      <th>50%</th>\n",
       "      <th>75%</th>\n",
       "      <th>max</th>\n",
       "    </tr>\n",
       "    <tr>\n",
       "      <th>category</th>\n",
       "      <th></th>\n",
       "      <th></th>\n",
       "      <th></th>\n",
       "      <th></th>\n",
       "      <th></th>\n",
       "      <th></th>\n",
       "      <th></th>\n",
       "      <th></th>\n",
       "      <th></th>\n",
       "      <th></th>\n",
       "      <th></th>\n",
       "      <th></th>\n",
       "      <th></th>\n",
       "      <th></th>\n",
       "      <th></th>\n",
       "      <th></th>\n",
       "      <th></th>\n",
       "      <th></th>\n",
       "      <th></th>\n",
       "      <th></th>\n",
       "      <th></th>\n",
       "    </tr>\n",
       "  </thead>\n",
       "  <tbody>\n",
       "    <tr>\n",
       "      <th>worldnews</th>\n",
       "      <td>509236.0</td>\n",
       "      <td>1.380240e+09</td>\n",
       "      <td>7.090436e+07</td>\n",
       "      <td>1.201232e+09</td>\n",
       "      <td>1.341585e+09</td>\n",
       "      <td>1.392909e+09</td>\n",
       "      <td>1.436527e+09</td>\n",
       "      <td>1.479817e+09</td>\n",
       "      <td>509236.0</td>\n",
       "      <td>112.236283</td>\n",
       "      <td>...</td>\n",
       "      <td>0.0</td>\n",
       "      <td>0.0</td>\n",
       "      <td>509236.0</td>\n",
       "      <td>89.746999</td>\n",
       "      <td>59.929427</td>\n",
       "      <td>1.0</td>\n",
       "      <td>52.0</td>\n",
       "      <td>66.0</td>\n",
       "      <td>100.0</td>\n",
       "      <td>323.0</td>\n",
       "    </tr>\n",
       "  </tbody>\n",
       "</table>\n",
       "<p>1 rows × 32 columns</p>\n",
       "</div>"
      ],
      "text/plain": [
       "          time_created                                            \\\n",
       "                 count          mean           std           min   \n",
       "category                                                           \n",
       "worldnews     509236.0  1.380240e+09  7.090436e+07  1.201232e+09   \n",
       "\n",
       "                                                                   up_votes  \\\n",
       "                    25%           50%           75%           max     count   \n",
       "category                                                                      \n",
       "worldnews  1.341585e+09  1.392909e+09  1.436527e+09  1.479817e+09  509236.0   \n",
       "\n",
       "                       ... down_votes      text length                        \\\n",
       "                 mean  ...        75%  max       count       mean        std   \n",
       "category               ...                                                     \n",
       "worldnews  112.236283  ...        0.0  0.0    509236.0  89.746999  59.929427   \n",
       "\n",
       "                                          \n",
       "           min   25%   50%    75%    max  \n",
       "category                                  \n",
       "worldnews  1.0  52.0  66.0  100.0  323.0  \n",
       "\n",
       "[1 rows x 32 columns]"
      ]
     },
     "execution_count": 161,
     "metadata": {},
     "output_type": "execute_result"
    }
   ],
   "source": [
    "dfs.groupby('category').describe() ## there's only 1 category of news here... "
   ]
  },
  {
   "cell_type": "code",
   "execution_count": 162,
   "metadata": {},
   "outputs": [
    {
     "data": {
      "text/plain": [
       "count    509236.000000\n",
       "mean        112.236283\n",
       "std         541.694675\n",
       "min           0.000000\n",
       "25%           1.000000\n",
       "50%           5.000000\n",
       "75%          16.000000\n",
       "max       21253.000000\n",
       "Name: up_votes, dtype: float64"
      ]
     },
     "execution_count": 162,
     "metadata": {},
     "output_type": "execute_result"
    }
   ],
   "source": [
    "dfs['up_votes'].describe()"
   ]
  },
  {
   "cell_type": "code",
   "execution_count": 163,
   "metadata": {},
   "outputs": [
    {
     "data": {
      "text/html": [
       "<div>\n",
       "<style scoped>\n",
       "    .dataframe tbody tr th:only-of-type {\n",
       "        vertical-align: middle;\n",
       "    }\n",
       "\n",
       "    .dataframe tbody tr th {\n",
       "        vertical-align: top;\n",
       "    }\n",
       "\n",
       "    .dataframe thead tr th {\n",
       "        text-align: left;\n",
       "    }\n",
       "\n",
       "    .dataframe thead tr:last-of-type th {\n",
       "        text-align: right;\n",
       "    }\n",
       "</style>\n",
       "<table border=\"1\" class=\"dataframe\">\n",
       "  <thead>\n",
       "    <tr>\n",
       "      <th></th>\n",
       "      <th colspan=\"8\" halign=\"left\">time_created</th>\n",
       "      <th colspan=\"2\" halign=\"left\">up_votes</th>\n",
       "      <th>...</th>\n",
       "      <th colspan=\"2\" halign=\"left\">down_votes</th>\n",
       "      <th colspan=\"8\" halign=\"left\">text length</th>\n",
       "    </tr>\n",
       "    <tr>\n",
       "      <th></th>\n",
       "      <th>count</th>\n",
       "      <th>mean</th>\n",
       "      <th>std</th>\n",
       "      <th>min</th>\n",
       "      <th>25%</th>\n",
       "      <th>50%</th>\n",
       "      <th>75%</th>\n",
       "      <th>max</th>\n",
       "      <th>count</th>\n",
       "      <th>mean</th>\n",
       "      <th>...</th>\n",
       "      <th>75%</th>\n",
       "      <th>max</th>\n",
       "      <th>count</th>\n",
       "      <th>mean</th>\n",
       "      <th>std</th>\n",
       "      <th>min</th>\n",
       "      <th>25%</th>\n",
       "      <th>50%</th>\n",
       "      <th>75%</th>\n",
       "      <th>max</th>\n",
       "    </tr>\n",
       "    <tr>\n",
       "      <th>over_18</th>\n",
       "      <th></th>\n",
       "      <th></th>\n",
       "      <th></th>\n",
       "      <th></th>\n",
       "      <th></th>\n",
       "      <th></th>\n",
       "      <th></th>\n",
       "      <th></th>\n",
       "      <th></th>\n",
       "      <th></th>\n",
       "      <th></th>\n",
       "      <th></th>\n",
       "      <th></th>\n",
       "      <th></th>\n",
       "      <th></th>\n",
       "      <th></th>\n",
       "      <th></th>\n",
       "      <th></th>\n",
       "      <th></th>\n",
       "      <th></th>\n",
       "      <th></th>\n",
       "    </tr>\n",
       "  </thead>\n",
       "  <tbody>\n",
       "    <tr>\n",
       "      <th>False</th>\n",
       "      <td>508916.0</td>\n",
       "      <td>1.380243e+09</td>\n",
       "      <td>7.090853e+07</td>\n",
       "      <td>1.201232e+09</td>\n",
       "      <td>1.341591e+09</td>\n",
       "      <td>1.392917e+09</td>\n",
       "      <td>1.436532e+09</td>\n",
       "      <td>1.479817e+09</td>\n",
       "      <td>508916.0</td>\n",
       "      <td>112.067681</td>\n",
       "      <td>...</td>\n",
       "      <td>0.0</td>\n",
       "      <td>0.0</td>\n",
       "      <td>508916.0</td>\n",
       "      <td>89.748214</td>\n",
       "      <td>59.938701</td>\n",
       "      <td>1.0</td>\n",
       "      <td>52.0</td>\n",
       "      <td>66.0</td>\n",
       "      <td>100.0</td>\n",
       "      <td>323.0</td>\n",
       "    </tr>\n",
       "    <tr>\n",
       "      <th>True</th>\n",
       "      <td>320.0</td>\n",
       "      <td>1.374549e+09</td>\n",
       "      <td>6.378159e+07</td>\n",
       "      <td>1.206381e+09</td>\n",
       "      <td>1.321828e+09</td>\n",
       "      <td>1.377072e+09</td>\n",
       "      <td>1.424424e+09</td>\n",
       "      <td>1.479642e+09</td>\n",
       "      <td>320.0</td>\n",
       "      <td>380.375000</td>\n",
       "      <td>...</td>\n",
       "      <td>0.0</td>\n",
       "      <td>0.0</td>\n",
       "      <td>320.0</td>\n",
       "      <td>87.815625</td>\n",
       "      <td>42.727030</td>\n",
       "      <td>26.0</td>\n",
       "      <td>61.0</td>\n",
       "      <td>78.0</td>\n",
       "      <td>101.0</td>\n",
       "      <td>300.0</td>\n",
       "    </tr>\n",
       "  </tbody>\n",
       "</table>\n",
       "<p>2 rows × 32 columns</p>\n",
       "</div>"
      ],
      "text/plain": [
       "        time_created                                                          \\\n",
       "               count          mean           std           min           25%   \n",
       "over_18                                                                        \n",
       "False       508916.0  1.380243e+09  7.090853e+07  1.201232e+09  1.341591e+09   \n",
       "True           320.0  1.374549e+09  6.378159e+07  1.206381e+09  1.321828e+09   \n",
       "\n",
       "                                                   up_votes              ...  \\\n",
       "                  50%           75%           max     count        mean  ...   \n",
       "over_18                                                                  ...   \n",
       "False    1.392917e+09  1.436532e+09  1.479817e+09  508916.0  112.067681  ...   \n",
       "True     1.377072e+09  1.424424e+09  1.479642e+09     320.0  380.375000  ...   \n",
       "\n",
       "        down_votes      text length                                          \\\n",
       "               75%  max       count       mean        std   min   25%   50%   \n",
       "over_18                                                                       \n",
       "False          0.0  0.0    508916.0  89.748214  59.938701   1.0  52.0  66.0   \n",
       "True           0.0  0.0       320.0  87.815625  42.727030  26.0  61.0  78.0   \n",
       "\n",
       "                       \n",
       "           75%    max  \n",
       "over_18                \n",
       "False    100.0  323.0  \n",
       "True     101.0  300.0  \n",
       "\n",
       "[2 rows x 32 columns]"
      ]
     },
     "execution_count": 163,
     "metadata": {},
     "output_type": "execute_result"
    }
   ],
   "source": [
    "dfs.groupby('over_18').describe() ## Two categories of article titles as per age... \n",
    "## Over-18 articles are only 320 out of 509236"
   ]
  },
  {
   "cell_type": "code",
   "execution_count": 164,
   "metadata": {},
   "outputs": [
    {
     "data": {
      "text/plain": [
       "davidreiss666       8897\n",
       "anutensil           5730\n",
       "DoremusJessup       5037\n",
       "maxwellhill         4023\n",
       "igeldard            4013\n",
       "                    ... \n",
       "tiny_tim31             1\n",
       "new_to__internet       1\n",
       "pepsipig               1\n",
       "_seanyewest            1\n",
       "graduallemon           1\n",
       "Name: author, Length: 85838, dtype: int64"
      ]
     },
     "execution_count": 164,
     "metadata": {},
     "output_type": "execute_result"
    }
   ],
   "source": [
    "dfs.author.value_counts() ## How many times does each author has an article?..."
   ]
  },
  {
   "cell_type": "code",
   "execution_count": 165,
   "metadata": {},
   "outputs": [
    {
     "data": {
      "text/plain": [
       "85838"
      ]
     },
     "execution_count": 165,
     "metadata": {},
     "output_type": "execute_result"
    }
   ],
   "source": [
    "dfs.author.nunique() ## Know how many unique authors... 85838 authors have written 509236 articles..."
   ]
  },
  {
   "cell_type": "code",
   "execution_count": 166,
   "metadata": {},
   "outputs": [
    {
     "data": {
      "text/plain": [
       "<seaborn.axisgrid.FacetGrid at 0x12a84eb50>"
      ]
     },
     "execution_count": 166,
     "metadata": {},
     "output_type": "execute_result"
    },
    {
     "data": {
      "image/png": "[encoded data removed]",
      "text/plain": [
       "<Figure size 432x216 with 2 Axes>"
      ]
     },
     "metadata": {
      "needs_background": "light"
     },
     "output_type": "display_data"
    }
   ],
   "source": [
    "g = sns.FacetGrid(dfs, col = 'over_18')\n",
    "g.map(plt.hist,'text length',range=[0, 400]) ## over-18 articles cannot be seen in the plot... something's wrong...\n",
    "## That is because of the Y axis range... "
   ]
  },
  {
   "cell_type": "code",
   "execution_count": 167,
   "metadata": {},
   "outputs": [
    {
     "data": {
      "text/html": [
       "<div>\n",
       "<style scoped>\n",
       "    .dataframe tbody tr th:only-of-type {\n",
       "        vertical-align: middle;\n",
       "    }\n",
       "\n",
       "    .dataframe tbody tr th {\n",
       "        vertical-align: top;\n",
       "    }\n",
       "\n",
       "    .dataframe thead th {\n",
       "        text-align: right;\n",
       "    }\n",
       "</style>\n",
       "<table border=\"1\" class=\"dataframe\">\n",
       "  <thead>\n",
       "    <tr style=\"text-align: right;\">\n",
       "      <th></th>\n",
       "      <th>time_created</th>\n",
       "      <th>date_created</th>\n",
       "      <th>up_votes</th>\n",
       "      <th>down_votes</th>\n",
       "      <th>title</th>\n",
       "      <th>over_18</th>\n",
       "      <th>author</th>\n",
       "      <th>category</th>\n",
       "      <th>text length</th>\n",
       "    </tr>\n",
       "  </thead>\n",
       "  <tbody>\n",
       "    <tr>\n",
       "      <th>1885</th>\n",
       "      <td>1206381438</td>\n",
       "      <td>2008-03-24</td>\n",
       "      <td>189</td>\n",
       "      <td>0</td>\n",
       "      <td>Pics from the Tibetan protests - more graphic ...</td>\n",
       "      <td>True</td>\n",
       "      <td>pressed</td>\n",
       "      <td>worldnews</td>\n",
       "      <td>76</td>\n",
       "    </tr>\n",
       "    <tr>\n",
       "      <th>6721</th>\n",
       "      <td>1211138718</td>\n",
       "      <td>2008-05-18</td>\n",
       "      <td>5</td>\n",
       "      <td>0</td>\n",
       "      <td>MI5 linked to Max Mosleyâs Nazi-style, sadom...</td>\n",
       "      <td>True</td>\n",
       "      <td>alllie</td>\n",
       "      <td>worldnews</td>\n",
       "      <td>192</td>\n",
       "    </tr>\n",
       "    <tr>\n",
       "      <th>8414</th>\n",
       "      <td>1212694925</td>\n",
       "      <td>2008-06-05</td>\n",
       "      <td>0</td>\n",
       "      <td>0</td>\n",
       "      <td>Tabloid Horrifies Germany: Poland s Yellow Pre...</td>\n",
       "      <td>True</td>\n",
       "      <td>stesch</td>\n",
       "      <td>worldnews</td>\n",
       "      <td>135</td>\n",
       "    </tr>\n",
       "    <tr>\n",
       "      <th>12163</th>\n",
       "      <td>1216672016</td>\n",
       "      <td>2008-07-21</td>\n",
       "      <td>0</td>\n",
       "      <td>0</td>\n",
       "      <td>Love Parade Dortmund: Techno Festival Breaks R...</td>\n",
       "      <td>True</td>\n",
       "      <td>stesch</td>\n",
       "      <td>worldnews</td>\n",
       "      <td>101</td>\n",
       "    </tr>\n",
       "    <tr>\n",
       "      <th>12699</th>\n",
       "      <td>1217381380</td>\n",
       "      <td>2008-07-30</td>\n",
       "      <td>5</td>\n",
       "      <td>0</td>\n",
       "      <td>IDF kills young Palestinian boy. Potentially N...</td>\n",
       "      <td>True</td>\n",
       "      <td>cup</td>\n",
       "      <td>worldnews</td>\n",
       "      <td>50</td>\n",
       "    </tr>\n",
       "    <tr>\n",
       "      <th>...</th>\n",
       "      <td>...</td>\n",
       "      <td>...</td>\n",
       "      <td>...</td>\n",
       "      <td>...</td>\n",
       "      <td>...</td>\n",
       "      <td>...</td>\n",
       "      <td>...</td>\n",
       "      <td>...</td>\n",
       "      <td>...</td>\n",
       "    </tr>\n",
       "    <tr>\n",
       "      <th>503776</th>\n",
       "      <td>1477889966</td>\n",
       "      <td>2016-10-31</td>\n",
       "      <td>4</td>\n",
       "      <td>0</td>\n",
       "      <td>Latest Italian Earthquake Devastates Medieval ...</td>\n",
       "      <td>True</td>\n",
       "      <td>pixelinthe</td>\n",
       "      <td>worldnews</td>\n",
       "      <td>51</td>\n",
       "    </tr>\n",
       "    <tr>\n",
       "      <th>508067</th>\n",
       "      <td>1479400229</td>\n",
       "      <td>2016-11-17</td>\n",
       "      <td>12</td>\n",
       "      <td>0</td>\n",
       "      <td>ISIS Release Video Showing Melbourne As A Poss...</td>\n",
       "      <td>True</td>\n",
       "      <td>halacska</td>\n",
       "      <td>worldnews</td>\n",
       "      <td>57</td>\n",
       "    </tr>\n",
       "    <tr>\n",
       "      <th>508176</th>\n",
       "      <td>1479434681</td>\n",
       "      <td>2016-11-18</td>\n",
       "      <td>0</td>\n",
       "      <td>0</td>\n",
       "      <td>Animal welfare activists have released footage...</td>\n",
       "      <td>True</td>\n",
       "      <td>NinjaDiscoJesus</td>\n",
       "      <td>worldnews</td>\n",
       "      <td>137</td>\n",
       "    </tr>\n",
       "    <tr>\n",
       "      <th>508376</th>\n",
       "      <td>1479492875</td>\n",
       "      <td>2016-11-18</td>\n",
       "      <td>6</td>\n",
       "      <td>0</td>\n",
       "      <td>Jungle Justice : Public lynching of a street ...</td>\n",
       "      <td>True</td>\n",
       "      <td>avivi_</td>\n",
       "      <td>worldnews</td>\n",
       "      <td>60</td>\n",
       "    </tr>\n",
       "    <tr>\n",
       "      <th>508706</th>\n",
       "      <td>1479641575</td>\n",
       "      <td>2016-11-20</td>\n",
       "      <td>0</td>\n",
       "      <td>0</td>\n",
       "      <td>[NSFW] Teenage boy run over by  Iraqi army tan...</td>\n",
       "      <td>True</td>\n",
       "      <td>atyzer</td>\n",
       "      <td>worldnews</td>\n",
       "      <td>82</td>\n",
       "    </tr>\n",
       "  </tbody>\n",
       "</table>\n",
       "<p>320 rows × 9 columns</p>\n",
       "</div>"
      ],
      "text/plain": [
       "        time_created date_created  up_votes  down_votes  \\\n",
       "1885      1206381438   2008-03-24       189           0   \n",
       "6721      1211138718   2008-05-18         5           0   \n",
       "8414      1212694925   2008-06-05         0           0   \n",
       "12163     1216672016   2008-07-21         0           0   \n",
       "12699     1217381380   2008-07-30         5           0   \n",
       "...              ...          ...       ...         ...   \n",
       "503776    1477889966   2016-10-31         4           0   \n",
       "508067    1479400229   2016-11-17        12           0   \n",
       "508176    1479434681   2016-11-18         0           0   \n",
       "508376    1479492875   2016-11-18         6           0   \n",
       "508706    1479641575   2016-11-20         0           0   \n",
       "\n",
       "                                                    title  over_18  \\\n",
       "1885    Pics from the Tibetan protests - more graphic ...     True   \n",
       "6721    MI5 linked to Max Mosleyâs Nazi-style, sadom...     True   \n",
       "8414    Tabloid Horrifies Germany: Poland s Yellow Pre...     True   \n",
       "12163   Love Parade Dortmund: Techno Festival Breaks R...     True   \n",
       "12699   IDF kills young Palestinian boy. Potentially N...     True   \n",
       "...                                                   ...      ...   \n",
       "503776  Latest Italian Earthquake Devastates Medieval ...     True   \n",
       "508067  ISIS Release Video Showing Melbourne As A Poss...     True   \n",
       "508176  Animal welfare activists have released footage...     True   \n",
       "508376   Jungle Justice : Public lynching of a street ...     True   \n",
       "508706  [NSFW] Teenage boy run over by  Iraqi army tan...     True   \n",
       "\n",
       "                 author   category  text length  \n",
       "1885            pressed  worldnews           76  \n",
       "6721             alllie  worldnews          192  \n",
       "8414             stesch  worldnews          135  \n",
       "12163            stesch  worldnews          101  \n",
       "12699               cup  worldnews           50  \n",
       "...                 ...        ...          ...  \n",
       "503776       pixelinthe  worldnews           51  \n",
       "508067         halacska  worldnews           57  \n",
       "508176  NinjaDiscoJesus  worldnews          137  \n",
       "508376           avivi_  worldnews           60  \n",
       "508706           atyzer  worldnews           82  \n",
       "\n",
       "[320 rows x 9 columns]"
      ]
     },
     "execution_count": 167,
     "metadata": {},
     "output_type": "execute_result"
    }
   ],
   "source": [
    "kk = dfs[dfs['over_18']==True]\n",
    "kk ## all over-18 articles separated, we can see the text length is not zero in most cases... "
   ]
  },
  {
   "cell_type": "code",
   "execution_count": 168,
   "metadata": {},
   "outputs": [
    {
     "data": {
      "text/plain": [
       "<seaborn.axisgrid.FacetGrid at 0x1246ce990>"
      ]
     },
     "execution_count": 168,
     "metadata": {},
     "output_type": "execute_result"
    },
    {
     "data": {
      "image/png": "[encoded data removed]",
      "text/plain": [
       "<Figure size 216x216 with 1 Axes>"
      ]
     },
     "metadata": {
      "needs_background": "light"
     },
     "output_type": "display_data"
    }
   ],
   "source": [
    "g = sns.FacetGrid(kk, col = 'over_18')\n",
    "g.map(plt.hist,'text length',range=[0, 400]) \n",
    "## We can see the difference in range of Y axis here and earlier plot... "
   ]
  },
  {
   "cell_type": "code",
   "execution_count": 169,
   "metadata": {},
   "outputs": [
    {
     "data": {
      "text/plain": [
       "<AxesSubplot:xlabel='over_18', ylabel='text length'>"
      ]
     },
     "execution_count": 169,
     "metadata": {},
     "output_type": "execute_result"
    },
    {
     "data": {
      "image/png": "[encoded data removed]",
      "text/plain": [
       "<Figure size 432x288 with 1 Axes>"
      ]
     },
     "metadata": {
      "needs_background": "light"
     },
     "output_type": "display_data"
    }
   ],
   "source": [
    "sns.boxplot(x='over_18',y='text length',data=dfs,palette='rainbow')\n",
    "## Median text length is pretty close for both types of articles..."
   ]
  },
  {
   "cell_type": "code",
   "execution_count": 170,
   "metadata": {},
   "outputs": [
    {
     "data": {
      "text/plain": [
       "<AxesSubplot:xlabel='over_18', ylabel='count'>"
      ]
     },
     "execution_count": 170,
     "metadata": {},
     "output_type": "execute_result"
    },
    {
     "data": {
      "image/png": "[encoded data removed]",
      "text/plain": [
       "<Figure size 842.4x595.44 with 1 Axes>"
      ]
     },
     "metadata": {},
     "output_type": "display_data"
    }
   ],
   "source": [
    "sns.set(rc={'figure.figsize':(11.7,8.27)})\n",
    "sns.countplot(x='over_18',data=dfs,palette='rainbow')\n",
    "## Again, over-18 articles' count which is only 320, can't be seen because of the scale of Y axis... "
   ]
  },
  {
   "cell_type": "code",
   "execution_count": 171,
   "metadata": {},
   "outputs": [
    {
     "data": {
      "text/plain": [
       "<AxesSubplot:xlabel='over_18', ylabel='count'>"
      ]
     },
     "execution_count": 171,
     "metadata": {},
     "output_type": "execute_result"
    },
    {
     "data": {
      "image/png": "[encoded data removed]",
      "text/plain": [
       "<Figure size 360x360 with 1 Axes>"
      ]
     },
     "metadata": {},
     "output_type": "display_data"
    }
   ],
   "source": [
    "sns.set(rc={'figure.figsize':(5,5)})\n",
    "sns.countplot(x='over_18',data=kk,palette='rainbow')"
   ]
  },
  {
   "cell_type": "code",
   "execution_count": 172,
   "metadata": {},
   "outputs": [
    {
     "data": {
      "text/plain": [
       "<AxesSubplot:xlabel='over_18', ylabel='text length'>"
      ]
     },
     "execution_count": 172,
     "metadata": {},
     "output_type": "execute_result"
    },
    {
     "data": {
      "image/png": "[encoded data removed]",
      "text/plain": [
       "<Figure size 842.4x595.44 with 1 Axes>"
      ]
     },
     "metadata": {},
     "output_type": "display_data"
    }
   ],
   "source": [
    "sns.set(rc={'figure.figsize':(11.7,8.27)})\n",
    "sns.violinplot(x='over_18', y='text length', data=dfs,palette='rainbow')"
   ]
  },
  {
   "cell_type": "code",
   "execution_count": 173,
   "metadata": {},
   "outputs": [
    {
     "data": {
      "text/plain": [
       "<AxesSubplot:xlabel='over_18', ylabel='text length'>"
      ]
     },
     "execution_count": 173,
     "metadata": {},
     "output_type": "execute_result"
    },
    {
     "data": {
      "image/png": "[encoded data removed]",
      "text/plain": [
       "<Figure size 842.4x595.44 with 1 Axes>"
      ]
     },
     "metadata": {},
     "output_type": "display_data"
    }
   ],
   "source": [
    "sns.stripplot(x='over_18', y='text length', data=dfs,jitter=True)"
   ]
  },
  {
   "cell_type": "code",
   "execution_count": 174,
   "metadata": {},
   "outputs": [
    {
     "data": {
      "text/plain": [
       "<AxesSubplot:xlabel='over_18', ylabel='up_votes'>"
      ]
     },
     "execution_count": 174,
     "metadata": {},
     "output_type": "execute_result"
    },
    {
     "data": {
      "image/png": "[encoded data removed]",
      "text/plain": [
       "<Figure size 842.4x595.44 with 1 Axes>"
      ]
     },
     "metadata": {},
     "output_type": "display_data"
    }
   ],
   "source": [
    "sns.boxplot(x='over_18',y='up_votes',data=dfs,palette='rainbow') ## This plot is not really insightful... \n",
    "## a lot of them have 0 upvotes it says"
   ]
  },
  {
   "cell_type": "markdown",
   "metadata": {},
   "source": [
    "#### Extract days, month, year from date_created "
   ]
  },
  {
   "cell_type": "code",
   "execution_count": 175,
   "metadata": {},
   "outputs": [
    {
     "data": {
      "text/plain": [
       "str"
      ]
     },
     "execution_count": 175,
     "metadata": {},
     "output_type": "execute_result"
    }
   ],
   "source": [
    "type(dfs['date_created'].iloc[0])"
   ]
  },
  {
   "cell_type": "code",
   "execution_count": 176,
   "metadata": {},
   "outputs": [],
   "source": [
    "dfs['date_created'] = pd.to_datetime(dfs['date_created'])"
   ]
  },
  {
   "cell_type": "code",
   "execution_count": 177,
   "metadata": {},
   "outputs": [
    {
     "data": {
      "text/plain": [
       "pandas._libs.tslibs.timestamps.Timestamp"
      ]
     },
     "execution_count": 177,
     "metadata": {},
     "output_type": "execute_result"
    }
   ],
   "source": [
    "type(dfs['date_created'].iloc[0])"
   ]
  },
  {
   "cell_type": "code",
   "execution_count": 179,
   "metadata": {},
   "outputs": [],
   "source": [
    "dfs['Month'] = dfs['date_created'].apply(lambda time: time.month)\n",
    "dfs['Day of Week'] = dfs['date_created'].apply(lambda time: time.dayofweek)\n",
    "dfs['Year'] = dfs['date_created'].apply(lambda time: time.year)"
   ]
  },
  {
   "cell_type": "code",
   "execution_count": 180,
   "metadata": {},
   "outputs": [],
   "source": [
    "dmap = {0:'Mon',1:'Tue',2:'Wed',3:'Thu',4:'Fri',5:'Sat',6:'Sun'}"
   ]
  },
  {
   "cell_type": "code",
   "execution_count": 181,
   "metadata": {},
   "outputs": [],
   "source": [
    "dfs['Day of Week'] = dfs['Day of Week'].map(dmap)"
   ]
  },
  {
   "cell_type": "code",
   "execution_count": 182,
   "metadata": {},
   "outputs": [
    {
     "data": {
      "text/html": [
       "<div>\n",
       "<style scoped>\n",
       "    .dataframe tbody tr th:only-of-type {\n",
       "        vertical-align: middle;\n",
       "    }\n",
       "\n",
       "    .dataframe tbody tr th {\n",
       "        vertical-align: top;\n",
       "    }\n",
       "\n",
       "    .dataframe thead th {\n",
       "        text-align: right;\n",
       "    }\n",
       "</style>\n",
       "<table border=\"1\" class=\"dataframe\">\n",
       "  <thead>\n",
       "    <tr style=\"text-align: right;\">\n",
       "      <th></th>\n",
       "      <th>time_created</th>\n",
       "      <th>date_created</th>\n",
       "      <th>up_votes</th>\n",
       "      <th>down_votes</th>\n",
       "      <th>title</th>\n",
       "      <th>over_18</th>\n",
       "      <th>author</th>\n",
       "      <th>category</th>\n",
       "      <th>text length</th>\n",
       "      <th>Month</th>\n",
       "      <th>Day of Week</th>\n",
       "      <th>Year</th>\n",
       "    </tr>\n",
       "  </thead>\n",
       "  <tbody>\n",
       "    <tr>\n",
       "      <th>0</th>\n",
       "      <td>1201232046</td>\n",
       "      <td>2008-01-25</td>\n",
       "      <td>3</td>\n",
       "      <td>0</td>\n",
       "      <td>Scores killed in Pakistan clashes</td>\n",
       "      <td>False</td>\n",
       "      <td>polar</td>\n",
       "      <td>worldnews</td>\n",
       "      <td>33</td>\n",
       "      <td>1</td>\n",
       "      <td>Fri</td>\n",
       "      <td>2008</td>\n",
       "    </tr>\n",
       "    <tr>\n",
       "      <th>1</th>\n",
       "      <td>1201232075</td>\n",
       "      <td>2008-01-25</td>\n",
       "      <td>2</td>\n",
       "      <td>0</td>\n",
       "      <td>Japan resumes refuelling mission</td>\n",
       "      <td>False</td>\n",
       "      <td>polar</td>\n",
       "      <td>worldnews</td>\n",
       "      <td>32</td>\n",
       "      <td>1</td>\n",
       "      <td>Fri</td>\n",
       "      <td>2008</td>\n",
       "    </tr>\n",
       "    <tr>\n",
       "      <th>2</th>\n",
       "      <td>1201232523</td>\n",
       "      <td>2008-01-25</td>\n",
       "      <td>3</td>\n",
       "      <td>0</td>\n",
       "      <td>US presses Egypt on Gaza border</td>\n",
       "      <td>False</td>\n",
       "      <td>polar</td>\n",
       "      <td>worldnews</td>\n",
       "      <td>31</td>\n",
       "      <td>1</td>\n",
       "      <td>Fri</td>\n",
       "      <td>2008</td>\n",
       "    </tr>\n",
       "  </tbody>\n",
       "</table>\n",
       "</div>"
      ],
      "text/plain": [
       "   time_created date_created  up_votes  down_votes  \\\n",
       "0    1201232046   2008-01-25         3           0   \n",
       "1    1201232075   2008-01-25         2           0   \n",
       "2    1201232523   2008-01-25         3           0   \n",
       "\n",
       "                               title  over_18 author   category  text length  \\\n",
       "0  Scores killed in Pakistan clashes    False  polar  worldnews           33   \n",
       "1   Japan resumes refuelling mission    False  polar  worldnews           32   \n",
       "2    US presses Egypt on Gaza border    False  polar  worldnews           31   \n",
       "\n",
       "   Month Day of Week  Year  \n",
       "0      1         Fri  2008  \n",
       "1      1         Fri  2008  \n",
       "2      1         Fri  2008  "
      ]
     },
     "execution_count": 182,
     "metadata": {},
     "output_type": "execute_result"
    }
   ],
   "source": [
    "dfs.head(3)"
   ]
  },
  {
   "cell_type": "code",
   "execution_count": 183,
   "metadata": {},
   "outputs": [
    {
     "data": {
      "text/html": [
       "<div>\n",
       "<style scoped>\n",
       "    .dataframe tbody tr th:only-of-type {\n",
       "        vertical-align: middle;\n",
       "    }\n",
       "\n",
       "    .dataframe tbody tr th {\n",
       "        vertical-align: top;\n",
       "    }\n",
       "\n",
       "    .dataframe thead th {\n",
       "        text-align: right;\n",
       "    }\n",
       "</style>\n",
       "<table border=\"1\" class=\"dataframe\">\n",
       "  <thead>\n",
       "    <tr style=\"text-align: right;\">\n",
       "      <th></th>\n",
       "      <th>time_created</th>\n",
       "      <th>date_created</th>\n",
       "      <th>up_votes</th>\n",
       "      <th>down_votes</th>\n",
       "      <th>title</th>\n",
       "      <th>over_18</th>\n",
       "      <th>author</th>\n",
       "      <th>category</th>\n",
       "      <th>text length</th>\n",
       "      <th>Month</th>\n",
       "      <th>Day of Week</th>\n",
       "      <th>Year</th>\n",
       "    </tr>\n",
       "  </thead>\n",
       "  <tbody>\n",
       "    <tr>\n",
       "      <th>509233</th>\n",
       "      <td>1479817056</td>\n",
       "      <td>2016-11-22</td>\n",
       "      <td>1</td>\n",
       "      <td>0</td>\n",
       "      <td>Professor receives Arab Researchers Award</td>\n",
       "      <td>False</td>\n",
       "      <td>AUSharjah</td>\n",
       "      <td>worldnews</td>\n",
       "      <td>41</td>\n",
       "      <td>11</td>\n",
       "      <td>Tue</td>\n",
       "      <td>2016</td>\n",
       "    </tr>\n",
       "    <tr>\n",
       "      <th>509234</th>\n",
       "      <td>1479817157</td>\n",
       "      <td>2016-11-22</td>\n",
       "      <td>1</td>\n",
       "      <td>0</td>\n",
       "      <td>Nigel Farage attacks response to Trump ambassa...</td>\n",
       "      <td>False</td>\n",
       "      <td>smilyflower</td>\n",
       "      <td>worldnews</td>\n",
       "      <td>55</td>\n",
       "      <td>11</td>\n",
       "      <td>Tue</td>\n",
       "      <td>2016</td>\n",
       "    </tr>\n",
       "    <tr>\n",
       "      <th>509235</th>\n",
       "      <td>1479817346</td>\n",
       "      <td>2016-11-22</td>\n",
       "      <td>1</td>\n",
       "      <td>0</td>\n",
       "      <td>Palestinian wielding knife shot dead in West B...</td>\n",
       "      <td>False</td>\n",
       "      <td>superislam</td>\n",
       "      <td>worldnews</td>\n",
       "      <td>64</td>\n",
       "      <td>11</td>\n",
       "      <td>Tue</td>\n",
       "      <td>2016</td>\n",
       "    </tr>\n",
       "  </tbody>\n",
       "</table>\n",
       "</div>"
      ],
      "text/plain": [
       "        time_created date_created  up_votes  down_votes  \\\n",
       "509233    1479817056   2016-11-22         1           0   \n",
       "509234    1479817157   2016-11-22         1           0   \n",
       "509235    1479817346   2016-11-22         1           0   \n",
       "\n",
       "                                                    title  over_18  \\\n",
       "509233          Professor receives Arab Researchers Award    False   \n",
       "509234  Nigel Farage attacks response to Trump ambassa...    False   \n",
       "509235  Palestinian wielding knife shot dead in West B...    False   \n",
       "\n",
       "             author   category  text length  Month Day of Week  Year  \n",
       "509233    AUSharjah  worldnews           41     11         Tue  2016  \n",
       "509234  smilyflower  worldnews           55     11         Tue  2016  \n",
       "509235   superislam  worldnews           64     11         Tue  2016  "
      ]
     },
     "execution_count": 183,
     "metadata": {},
     "output_type": "execute_result"
    }
   ],
   "source": [
    "dfs.tail(3)"
   ]
  },
  {
   "cell_type": "code",
   "execution_count": 184,
   "metadata": {},
   "outputs": [
    {
     "name": "stderr",
     "output_type": "stream",
     "text": [
      "No handles with labels found to put in legend.\n"
     ]
    },
    {
     "data": {
      "text/plain": [
       "<matplotlib.legend.Legend at 0x1a53c5a210>"
      ]
     },
     "execution_count": 184,
     "metadata": {},
     "output_type": "execute_result"
    },
    {
     "data": {
      "image/png": "[encoded data removed]",
      "text/plain": [
       "<Figure size 842.4x595.44 with 1 Axes>"
      ]
     },
     "metadata": {},
     "output_type": "display_data"
    }
   ],
   "source": [
    "sns.countplot(x='Day of Week',data=dfs,palette='viridis')\n",
    "plt.legend(bbox_to_anchor=(1.05, 1), loc=2, borderaxespad=0.) \n",
    "## we see that fewer articles are published on weekends, this is understandable...\n"
   ]
  },
  {
   "cell_type": "code",
   "execution_count": 185,
   "metadata": {},
   "outputs": [
    {
     "name": "stderr",
     "output_type": "stream",
     "text": [
      "No handles with labels found to put in legend.\n"
     ]
    },
    {
     "data": {
      "text/plain": [
       "<matplotlib.legend.Legend at 0x128fd4e90>"
      ]
     },
     "execution_count": 185,
     "metadata": {},
     "output_type": "execute_result"
    },
    {
     "data": {
      "image/png": "[encoded data removed]",
      "text/plain": [
       "<Figure size 842.4x595.44 with 1 Axes>"
      ]
     },
     "metadata": {},
     "output_type": "display_data"
    }
   ],
   "source": [
    "sns.countplot(x='Month',data=dfs,palette='viridis')\n",
    "plt.legend(bbox_to_anchor=(1.05, 1), loc=2, borderaxespad=0.) \n",
    "## we see that fewer articles are published in Nov, Dec, and Jan, this is probably because of holiday season... \n",
    "## There's kind of a dip in Apr-May as well, may be because of tax season..."
   ]
  },
  {
   "cell_type": "code",
   "execution_count": 186,
   "metadata": {},
   "outputs": [
    {
     "name": "stderr",
     "output_type": "stream",
     "text": [
      "No handles with labels found to put in legend.\n"
     ]
    },
    {
     "data": {
      "text/plain": [
       "<matplotlib.legend.Legend at 0x1a4c397310>"
      ]
     },
     "execution_count": 186,
     "metadata": {},
     "output_type": "execute_result"
    },
    {
     "data": {
      "image/png": "[encoded data removed]",
      "text/plain": [
       "<Figure size 842.4x595.44 with 1 Axes>"
      ]
     },
     "metadata": {},
     "output_type": "display_data"
    }
   ],
   "source": [
    "sns.countplot(x='Year',data=dfs,palette='viridis')\n",
    "plt.legend(bbox_to_anchor=(1.05, 1), loc=2, borderaxespad=0.) \n",
    "## This is interesting!! Number of articles have gone up in last 4 years 2013-2016, this is during Obama's second term \n",
    "## So I guess this is insightful... "
   ]
  },
  {
   "cell_type": "code",
   "execution_count": 187,
   "metadata": {},
   "outputs": [
    {
     "data": {
      "text/plain": [
       "<AxesSubplot:xlabel='Year', ylabel='text length'>"
      ]
     },
     "execution_count": 187,
     "metadata": {},
     "output_type": "execute_result"
    },
    {
     "data": {
      "image/png": "[encoded data removed]",
      "text/plain": [
       "<Figure size 842.4x595.44 with 1 Axes>"
      ]
     },
     "metadata": {},
     "output_type": "display_data"
    }
   ],
   "source": [
    "sns.boxplot(x='Year',y='text length',data=dfs,palette='rainbow')\n",
    "## Median length of the article titles has pretty much been the same over the years..."
   ]
  },
  {
   "cell_type": "code",
   "execution_count": 188,
   "metadata": {},
   "outputs": [],
   "source": [
    "dummy = dfs.groupby('over_18').mean()"
   ]
  },
  {
   "cell_type": "code",
   "execution_count": 189,
   "metadata": {},
   "outputs": [
    {
     "data": {
      "text/html": [
       "<div>\n",
       "<style scoped>\n",
       "    .dataframe tbody tr th:only-of-type {\n",
       "        vertical-align: middle;\n",
       "    }\n",
       "\n",
       "    .dataframe tbody tr th {\n",
       "        vertical-align: top;\n",
       "    }\n",
       "\n",
       "    .dataframe thead th {\n",
       "        text-align: right;\n",
       "    }\n",
       "</style>\n",
       "<table border=\"1\" class=\"dataframe\">\n",
       "  <thead>\n",
       "    <tr style=\"text-align: right;\">\n",
       "      <th></th>\n",
       "      <th>time_created</th>\n",
       "      <th>up_votes</th>\n",
       "      <th>down_votes</th>\n",
       "      <th>text length</th>\n",
       "      <th>Month</th>\n",
       "      <th>Year</th>\n",
       "    </tr>\n",
       "    <tr>\n",
       "      <th>over_18</th>\n",
       "      <th></th>\n",
       "      <th></th>\n",
       "      <th></th>\n",
       "      <th></th>\n",
       "      <th></th>\n",
       "      <th></th>\n",
       "    </tr>\n",
       "  </thead>\n",
       "  <tbody>\n",
       "    <tr>\n",
       "      <th>False</th>\n",
       "      <td>1.380243e+09</td>\n",
       "      <td>112.067681</td>\n",
       "      <td>0.0</td>\n",
       "      <td>89.748214</td>\n",
       "      <td>6.457630</td>\n",
       "      <td>2013.24282</td>\n",
       "    </tr>\n",
       "    <tr>\n",
       "      <th>True</th>\n",
       "      <td>1.374549e+09</td>\n",
       "      <td>380.375000</td>\n",
       "      <td>0.0</td>\n",
       "      <td>87.815625</td>\n",
       "      <td>5.921875</td>\n",
       "      <td>2013.10625</td>\n",
       "    </tr>\n",
       "  </tbody>\n",
       "</table>\n",
       "</div>"
      ],
      "text/plain": [
       "         time_created    up_votes  down_votes  text length     Month  \\\n",
       "over_18                                                                \n",
       "False    1.380243e+09  112.067681         0.0    89.748214  6.457630   \n",
       "True     1.374549e+09  380.375000         0.0    87.815625  5.921875   \n",
       "\n",
       "               Year  \n",
       "over_18              \n",
       "False    2013.24282  \n",
       "True     2013.10625  "
      ]
     },
     "execution_count": 189,
     "metadata": {},
     "output_type": "execute_result"
    }
   ],
   "source": [
    "dummy"
   ]
  },
  {
   "cell_type": "code",
   "execution_count": 190,
   "metadata": {},
   "outputs": [
    {
     "data": {
      "text/html": [
       "<div>\n",
       "<style scoped>\n",
       "    .dataframe tbody tr th:only-of-type {\n",
       "        vertical-align: middle;\n",
       "    }\n",
       "\n",
       "    .dataframe tbody tr th {\n",
       "        vertical-align: top;\n",
       "    }\n",
       "\n",
       "    .dataframe thead th {\n",
       "        text-align: right;\n",
       "    }\n",
       "</style>\n",
       "<table border=\"1\" class=\"dataframe\">\n",
       "  <thead>\n",
       "    <tr style=\"text-align: right;\">\n",
       "      <th></th>\n",
       "      <th>time_created</th>\n",
       "      <th>up_votes</th>\n",
       "      <th>down_votes</th>\n",
       "      <th>text length</th>\n",
       "      <th>Month</th>\n",
       "      <th>Year</th>\n",
       "    </tr>\n",
       "  </thead>\n",
       "  <tbody>\n",
       "    <tr>\n",
       "      <th>time_created</th>\n",
       "      <td>1.0</td>\n",
       "      <td>-1.0</td>\n",
       "      <td>NaN</td>\n",
       "      <td>1.0</td>\n",
       "      <td>1.0</td>\n",
       "      <td>1.0</td>\n",
       "    </tr>\n",
       "    <tr>\n",
       "      <th>up_votes</th>\n",
       "      <td>-1.0</td>\n",
       "      <td>1.0</td>\n",
       "      <td>NaN</td>\n",
       "      <td>-1.0</td>\n",
       "      <td>-1.0</td>\n",
       "      <td>-1.0</td>\n",
       "    </tr>\n",
       "    <tr>\n",
       "      <th>down_votes</th>\n",
       "      <td>NaN</td>\n",
       "      <td>NaN</td>\n",
       "      <td>NaN</td>\n",
       "      <td>NaN</td>\n",
       "      <td>NaN</td>\n",
       "      <td>NaN</td>\n",
       "    </tr>\n",
       "    <tr>\n",
       "      <th>text length</th>\n",
       "      <td>1.0</td>\n",
       "      <td>-1.0</td>\n",
       "      <td>NaN</td>\n",
       "      <td>1.0</td>\n",
       "      <td>1.0</td>\n",
       "      <td>1.0</td>\n",
       "    </tr>\n",
       "    <tr>\n",
       "      <th>Month</th>\n",
       "      <td>1.0</td>\n",
       "      <td>-1.0</td>\n",
       "      <td>NaN</td>\n",
       "      <td>1.0</td>\n",
       "      <td>1.0</td>\n",
       "      <td>1.0</td>\n",
       "    </tr>\n",
       "    <tr>\n",
       "      <th>Year</th>\n",
       "      <td>1.0</td>\n",
       "      <td>-1.0</td>\n",
       "      <td>NaN</td>\n",
       "      <td>1.0</td>\n",
       "      <td>1.0</td>\n",
       "      <td>1.0</td>\n",
       "    </tr>\n",
       "  </tbody>\n",
       "</table>\n",
       "</div>"
      ],
      "text/plain": [
       "              time_created  up_votes  down_votes  text length  Month  Year\n",
       "time_created           1.0      -1.0         NaN          1.0    1.0   1.0\n",
       "up_votes              -1.0       1.0         NaN         -1.0   -1.0  -1.0\n",
       "down_votes             NaN       NaN         NaN          NaN    NaN   NaN\n",
       "text length            1.0      -1.0         NaN          1.0    1.0   1.0\n",
       "Month                  1.0      -1.0         NaN          1.0    1.0   1.0\n",
       "Year                   1.0      -1.0         NaN          1.0    1.0   1.0"
      ]
     },
     "execution_count": 190,
     "metadata": {},
     "output_type": "execute_result"
    }
   ],
   "source": [
    "dummy.corr() \n",
    "## Wanted to check corr between upvotes and text length...\n",
    "## There's too many zeros in upvotes, so this corr matrix does not make sense"
   ]
  },
  {
   "cell_type": "code",
   "execution_count": 191,
   "metadata": {},
   "outputs": [],
   "source": [
    "dfs['Date']=dfs['date_created'].apply(lambda t: t.date())"
   ]
  },
  {
   "cell_type": "code",
   "execution_count": 192,
   "metadata": {},
   "outputs": [
    {
     "data": {
      "image/png": "[encoded data removed]",
      "text/plain": [
       "<Figure size 842.4x595.44 with 1 Axes>"
      ]
     },
     "metadata": {},
     "output_type": "display_data"
    }
   ],
   "source": [
    "dfs.groupby('Date').count()['text length'].plot()\n",
    "plt.title('Count of article titles over years')\n",
    "plt.tight_layout()\n",
    "## Plot of counts of all articles over years..."
   ]
  },
  {
   "cell_type": "code",
   "execution_count": 193,
   "metadata": {},
   "outputs": [
    {
     "data": {
      "image/png": "[encoded data removed]",
      "text/plain": [
       "<Figure size 842.4x595.44 with 1 Axes>"
      ]
     },
     "metadata": {},
     "output_type": "display_data"
    }
   ],
   "source": [
    "dfs[dfs['over_18']==False].groupby('Date').count()['text length'].plot()\n",
    "plt.title('over_18=False')\n",
    "plt.tight_layout()\n",
    "## Plot of counts of over-18 articles over years..."
   ]
  },
  {
   "cell_type": "markdown",
   "metadata": {},
   "source": [
    "#### Extract if the article is created on a weekday or a weekend"
   ]
  },
  {
   "cell_type": "markdown",
   "metadata": {},
   "source": [
    "dfs['WEEKDAY'] = pd.to_datetime(dfs['date_created']).dt.dayofweek  ## monday = 0, sunday = 6"
   ]
  },
  {
   "cell_type": "code",
   "execution_count": 195,
   "metadata": {},
   "outputs": [
    {
     "data": {
      "text/html": [
       "<div>\n",
       "<style scoped>\n",
       "    .dataframe tbody tr th:only-of-type {\n",
       "        vertical-align: middle;\n",
       "    }\n",
       "\n",
       "    .dataframe tbody tr th {\n",
       "        vertical-align: top;\n",
       "    }\n",
       "\n",
       "    .dataframe thead th {\n",
       "        text-align: right;\n",
       "    }\n",
       "</style>\n",
       "<table border=\"1\" class=\"dataframe\">\n",
       "  <thead>\n",
       "    <tr style=\"text-align: right;\">\n",
       "      <th></th>\n",
       "      <th>time_created</th>\n",
       "      <th>date_created</th>\n",
       "      <th>up_votes</th>\n",
       "      <th>down_votes</th>\n",
       "      <th>title</th>\n",
       "      <th>over_18</th>\n",
       "      <th>author</th>\n",
       "      <th>category</th>\n",
       "      <th>text length</th>\n",
       "      <th>Month</th>\n",
       "      <th>Day of Week</th>\n",
       "      <th>Year</th>\n",
       "      <th>Date</th>\n",
       "      <th>WEEKDAY</th>\n",
       "    </tr>\n",
       "  </thead>\n",
       "  <tbody>\n",
       "    <tr>\n",
       "      <th>0</th>\n",
       "      <td>1201232046</td>\n",
       "      <td>2008-01-25</td>\n",
       "      <td>3</td>\n",
       "      <td>0</td>\n",
       "      <td>Scores killed in Pakistan clashes</td>\n",
       "      <td>False</td>\n",
       "      <td>polar</td>\n",
       "      <td>worldnews</td>\n",
       "      <td>33</td>\n",
       "      <td>1</td>\n",
       "      <td>Fri</td>\n",
       "      <td>2008</td>\n",
       "      <td>2008-01-25</td>\n",
       "      <td>4</td>\n",
       "    </tr>\n",
       "    <tr>\n",
       "      <th>1</th>\n",
       "      <td>1201232075</td>\n",
       "      <td>2008-01-25</td>\n",
       "      <td>2</td>\n",
       "      <td>0</td>\n",
       "      <td>Japan resumes refuelling mission</td>\n",
       "      <td>False</td>\n",
       "      <td>polar</td>\n",
       "      <td>worldnews</td>\n",
       "      <td>32</td>\n",
       "      <td>1</td>\n",
       "      <td>Fri</td>\n",
       "      <td>2008</td>\n",
       "      <td>2008-01-25</td>\n",
       "      <td>4</td>\n",
       "    </tr>\n",
       "    <tr>\n",
       "      <th>2</th>\n",
       "      <td>1201232523</td>\n",
       "      <td>2008-01-25</td>\n",
       "      <td>3</td>\n",
       "      <td>0</td>\n",
       "      <td>US presses Egypt on Gaza border</td>\n",
       "      <td>False</td>\n",
       "      <td>polar</td>\n",
       "      <td>worldnews</td>\n",
       "      <td>31</td>\n",
       "      <td>1</td>\n",
       "      <td>Fri</td>\n",
       "      <td>2008</td>\n",
       "      <td>2008-01-25</td>\n",
       "      <td>4</td>\n",
       "    </tr>\n",
       "    <tr>\n",
       "      <th>3</th>\n",
       "      <td>1201233290</td>\n",
       "      <td>2008-01-25</td>\n",
       "      <td>1</td>\n",
       "      <td>0</td>\n",
       "      <td>Jump-start economy: Give health care to all</td>\n",
       "      <td>False</td>\n",
       "      <td>fadi420</td>\n",
       "      <td>worldnews</td>\n",
       "      <td>44</td>\n",
       "      <td>1</td>\n",
       "      <td>Fri</td>\n",
       "      <td>2008</td>\n",
       "      <td>2008-01-25</td>\n",
       "      <td>4</td>\n",
       "    </tr>\n",
       "    <tr>\n",
       "      <th>4</th>\n",
       "      <td>1201274720</td>\n",
       "      <td>2008-01-25</td>\n",
       "      <td>4</td>\n",
       "      <td>0</td>\n",
       "      <td>Council of Europe bashes EU&amp;UN terror blacklist</td>\n",
       "      <td>False</td>\n",
       "      <td>mhermans</td>\n",
       "      <td>worldnews</td>\n",
       "      <td>47</td>\n",
       "      <td>1</td>\n",
       "      <td>Fri</td>\n",
       "      <td>2008</td>\n",
       "      <td>2008-01-25</td>\n",
       "      <td>4</td>\n",
       "    </tr>\n",
       "  </tbody>\n",
       "</table>\n",
       "</div>"
      ],
      "text/plain": [
       "   time_created date_created  up_votes  down_votes  \\\n",
       "0    1201232046   2008-01-25         3           0   \n",
       "1    1201232075   2008-01-25         2           0   \n",
       "2    1201232523   2008-01-25         3           0   \n",
       "3    1201233290   2008-01-25         1           0   \n",
       "4    1201274720   2008-01-25         4           0   \n",
       "\n",
       "                                             title  over_18    author  \\\n",
       "0                Scores killed in Pakistan clashes    False     polar   \n",
       "1                 Japan resumes refuelling mission    False     polar   \n",
       "2                  US presses Egypt on Gaza border    False     polar   \n",
       "3     Jump-start economy: Give health care to all     False   fadi420   \n",
       "4  Council of Europe bashes EU&UN terror blacklist    False  mhermans   \n",
       "\n",
       "    category  text length  Month Day of Week  Year        Date  WEEKDAY  \n",
       "0  worldnews           33      1         Fri  2008  2008-01-25        4  \n",
       "1  worldnews           32      1         Fri  2008  2008-01-25        4  \n",
       "2  worldnews           31      1         Fri  2008  2008-01-25        4  \n",
       "3  worldnews           44      1         Fri  2008  2008-01-25        4  \n",
       "4  worldnews           47      1         Fri  2008  2008-01-25        4  "
      ]
     },
     "execution_count": 195,
     "metadata": {},
     "output_type": "execute_result"
    }
   ],
   "source": [
    "dfs.head()"
   ]
  },
  {
   "cell_type": "code",
   "execution_count": 196,
   "metadata": {},
   "outputs": [],
   "source": [
    "dfs['weekend_indi'] = 0          ## Initialize the column with default value of 0\n",
    "dfs.loc[dfs['WEEKDAY'].isin([5, 6]), 'weekend_indi'] = 1  ## 5 and 6 correspond to Sat and Sun"
   ]
  },
  {
   "cell_type": "code",
   "execution_count": 197,
   "metadata": {},
   "outputs": [
    {
     "data": {
      "text/html": [
       "<div>\n",
       "<style scoped>\n",
       "    .dataframe tbody tr th:only-of-type {\n",
       "        vertical-align: middle;\n",
       "    }\n",
       "\n",
       "    .dataframe tbody tr th {\n",
       "        vertical-align: top;\n",
       "    }\n",
       "\n",
       "    .dataframe thead th {\n",
       "        text-align: right;\n",
       "    }\n",
       "</style>\n",
       "<table border=\"1\" class=\"dataframe\">\n",
       "  <thead>\n",
       "    <tr style=\"text-align: right;\">\n",
       "      <th></th>\n",
       "      <th>time_created</th>\n",
       "      <th>date_created</th>\n",
       "      <th>up_votes</th>\n",
       "      <th>down_votes</th>\n",
       "      <th>title</th>\n",
       "      <th>over_18</th>\n",
       "      <th>author</th>\n",
       "      <th>category</th>\n",
       "      <th>text length</th>\n",
       "      <th>Month</th>\n",
       "      <th>Day of Week</th>\n",
       "      <th>Year</th>\n",
       "      <th>Date</th>\n",
       "      <th>WEEKDAY</th>\n",
       "      <th>weekend_indi</th>\n",
       "    </tr>\n",
       "  </thead>\n",
       "  <tbody>\n",
       "    <tr>\n",
       "      <th>0</th>\n",
       "      <td>1201232046</td>\n",
       "      <td>2008-01-25</td>\n",
       "      <td>3</td>\n",
       "      <td>0</td>\n",
       "      <td>Scores killed in Pakistan clashes</td>\n",
       "      <td>False</td>\n",
       "      <td>polar</td>\n",
       "      <td>worldnews</td>\n",
       "      <td>33</td>\n",
       "      <td>1</td>\n",
       "      <td>Fri</td>\n",
       "      <td>2008</td>\n",
       "      <td>2008-01-25</td>\n",
       "      <td>4</td>\n",
       "      <td>0</td>\n",
       "    </tr>\n",
       "    <tr>\n",
       "      <th>1</th>\n",
       "      <td>1201232075</td>\n",
       "      <td>2008-01-25</td>\n",
       "      <td>2</td>\n",
       "      <td>0</td>\n",
       "      <td>Japan resumes refuelling mission</td>\n",
       "      <td>False</td>\n",
       "      <td>polar</td>\n",
       "      <td>worldnews</td>\n",
       "      <td>32</td>\n",
       "      <td>1</td>\n",
       "      <td>Fri</td>\n",
       "      <td>2008</td>\n",
       "      <td>2008-01-25</td>\n",
       "      <td>4</td>\n",
       "      <td>0</td>\n",
       "    </tr>\n",
       "    <tr>\n",
       "      <th>2</th>\n",
       "      <td>1201232523</td>\n",
       "      <td>2008-01-25</td>\n",
       "      <td>3</td>\n",
       "      <td>0</td>\n",
       "      <td>US presses Egypt on Gaza border</td>\n",
       "      <td>False</td>\n",
       "      <td>polar</td>\n",
       "      <td>worldnews</td>\n",
       "      <td>31</td>\n",
       "      <td>1</td>\n",
       "      <td>Fri</td>\n",
       "      <td>2008</td>\n",
       "      <td>2008-01-25</td>\n",
       "      <td>4</td>\n",
       "      <td>0</td>\n",
       "    </tr>\n",
       "    <tr>\n",
       "      <th>3</th>\n",
       "      <td>1201233290</td>\n",
       "      <td>2008-01-25</td>\n",
       "      <td>1</td>\n",
       "      <td>0</td>\n",
       "      <td>Jump-start economy: Give health care to all</td>\n",
       "      <td>False</td>\n",
       "      <td>fadi420</td>\n",
       "      <td>worldnews</td>\n",
       "      <td>44</td>\n",
       "      <td>1</td>\n",
       "      <td>Fri</td>\n",
       "      <td>2008</td>\n",
       "      <td>2008-01-25</td>\n",
       "      <td>4</td>\n",
       "      <td>0</td>\n",
       "    </tr>\n",
       "    <tr>\n",
       "      <th>4</th>\n",
       "      <td>1201274720</td>\n",
       "      <td>2008-01-25</td>\n",
       "      <td>4</td>\n",
       "      <td>0</td>\n",
       "      <td>Council of Europe bashes EU&amp;UN terror blacklist</td>\n",
       "      <td>False</td>\n",
       "      <td>mhermans</td>\n",
       "      <td>worldnews</td>\n",
       "      <td>47</td>\n",
       "      <td>1</td>\n",
       "      <td>Fri</td>\n",
       "      <td>2008</td>\n",
       "      <td>2008-01-25</td>\n",
       "      <td>4</td>\n",
       "      <td>0</td>\n",
       "    </tr>\n",
       "  </tbody>\n",
       "</table>\n",
       "</div>"
      ],
      "text/plain": [
       "   time_created date_created  up_votes  down_votes  \\\n",
       "0    1201232046   2008-01-25         3           0   \n",
       "1    1201232075   2008-01-25         2           0   \n",
       "2    1201232523   2008-01-25         3           0   \n",
       "3    1201233290   2008-01-25         1           0   \n",
       "4    1201274720   2008-01-25         4           0   \n",
       "\n",
       "                                             title  over_18    author  \\\n",
       "0                Scores killed in Pakistan clashes    False     polar   \n",
       "1                 Japan resumes refuelling mission    False     polar   \n",
       "2                  US presses Egypt on Gaza border    False     polar   \n",
       "3     Jump-start economy: Give health care to all     False   fadi420   \n",
       "4  Council of Europe bashes EU&UN terror blacklist    False  mhermans   \n",
       "\n",
       "    category  text length  Month Day of Week  Year        Date  WEEKDAY  \\\n",
       "0  worldnews           33      1         Fri  2008  2008-01-25        4   \n",
       "1  worldnews           32      1         Fri  2008  2008-01-25        4   \n",
       "2  worldnews           31      1         Fri  2008  2008-01-25        4   \n",
       "3  worldnews           44      1         Fri  2008  2008-01-25        4   \n",
       "4  worldnews           47      1         Fri  2008  2008-01-25        4   \n",
       "\n",
       "   weekend_indi  \n",
       "0             0  \n",
       "1             0  \n",
       "2             0  \n",
       "3             0  \n",
       "4             0  "
      ]
     },
     "execution_count": 197,
     "metadata": {},
     "output_type": "execute_result"
    }
   ],
   "source": [
    "dfs.head()"
   ]
  },
  {
   "cell_type": "code",
   "execution_count": 198,
   "metadata": {},
   "outputs": [
    {
     "data": {
      "text/plain": [
       "107871"
      ]
     },
     "execution_count": 198,
     "metadata": {},
     "output_type": "execute_result"
    }
   ],
   "source": [
    "dfs.weekend_indi.sum() ## these many instances of weekend title creations"
   ]
  },
  {
   "cell_type": "code",
   "execution_count": 199,
   "metadata": {},
   "outputs": [
    {
     "data": {
      "text/plain": [
       "<AxesSubplot:xlabel='weekend_indi', ylabel='count'>"
      ]
     },
     "execution_count": 199,
     "metadata": {},
     "output_type": "execute_result"
    },
    {
     "data": {
      "image/png": "[encoded data removed]",
      "text/plain": [
       "<Figure size 842.4x595.44 with 1 Axes>"
      ]
     },
     "metadata": {},
     "output_type": "display_data"
    }
   ],
   "source": [
    "sns.countplot(x='weekend_indi',data=dfs,palette='viridis')\n",
    "\n",
    "## we see that fewer articles are published on weekends... this is understandable...\n"
   ]
  },
  {
   "cell_type": "markdown",
   "metadata": {},
   "source": [
    "#### NLP"
   ]
  },
  {
   "cell_type": "code",
   "execution_count": 200,
   "metadata": {},
   "outputs": [],
   "source": [
    "X = dfs['title']\n",
    "y = dfs['weekend_indi']"
   ]
  },
  {
   "cell_type": "markdown",
   "metadata": {},
   "source": [
    "#### Import CountVectorizer and create a CountVectorizer object"
   ]
  },
  {
   "cell_type": "code",
   "execution_count": 201,
   "metadata": {},
   "outputs": [],
   "source": [
    "from sklearn.feature_extraction.text import CountVectorizer\n",
    "cv = CountVectorizer()"
   ]
  },
  {
   "cell_type": "code",
   "execution_count": 202,
   "metadata": {},
   "outputs": [],
   "source": [
    "X = cv.fit_transform(X)"
   ]
  },
  {
   "cell_type": "markdown",
   "metadata": {},
   "source": [
    "#### Train-Test split"
   ]
  },
  {
   "cell_type": "code",
   "execution_count": 203,
   "metadata": {},
   "outputs": [],
   "source": [
    "X_train, X_test, y_train, y_test = train_test_split(X, y,test_size=0.4,random_state=2021)\n",
    "## Use 40% of data for testing the model later..."
   ]
  },
  {
   "cell_type": "markdown",
   "metadata": {},
   "source": [
    "#### Model "
   ]
  },
  {
   "cell_type": "code",
   "execution_count": 204,
   "metadata": {},
   "outputs": [
    {
     "data": {
      "text/plain": [
       "MultinomialNB()"
      ]
     },
     "execution_count": 204,
     "metadata": {},
     "output_type": "execute_result"
    }
   ],
   "source": [
    "nb.fit(X_train,y_train) ## Using Multinomial Naive-Bayes approach"
   ]
  },
  {
   "cell_type": "markdown",
   "metadata": {},
   "source": [
    "#### Predictions"
   ]
  },
  {
   "cell_type": "code",
   "execution_count": 205,
   "metadata": {},
   "outputs": [],
   "source": [
    "predictions = nb.predict(X_test)"
   ]
  },
  {
   "cell_type": "code",
   "execution_count": 206,
   "metadata": {},
   "outputs": [
    {
     "name": "stdout",
     "output_type": "stream",
     "text": [
      "[[152672   7939]\n",
      " [ 39403   3681]]\n",
      "\n",
      "\n",
      "              precision    recall  f1-score   support\n",
      "\n",
      "           0       0.79      0.95      0.87    160611\n",
      "           1       0.32      0.09      0.13     43084\n",
      "\n",
      "    accuracy                           0.77    203695\n",
      "   macro avg       0.56      0.52      0.50    203695\n",
      "weighted avg       0.69      0.77      0.71    203695\n",
      "\n"
     ]
    }
   ],
   "source": [
    "print(confusion_matrix(y_test,predictions))\n",
    "print('\\n')\n",
    "print(classification_report(y_test,predictions))"
   ]
  },
  {
   "cell_type": "markdown",
   "metadata": {},
   "source": [
    "#### This approach has \"good\" results but let's try another method using a pipeline... "
   ]
  },
  {
   "cell_type": "markdown",
   "metadata": {},
   "source": [
    "#### Let's try Tfidf Transformer using a pipeline"
   ]
  },
  {
   "cell_type": "code",
   "execution_count": 207,
   "metadata": {},
   "outputs": [],
   "source": [
    "from sklearn.feature_extraction.text import  TfidfTransformer\n",
    "from sklearn.pipeline import Pipeline"
   ]
  },
  {
   "cell_type": "code",
   "execution_count": 213,
   "metadata": {},
   "outputs": [],
   "source": [
    "pipeline = Pipeline([\n",
    "    ('bow', CountVectorizer()),  ## strings to token integer counts\n",
    "    ('tfidf', TfidfTransformer()),  ## integer counts to weighted TF-IDF scores\n",
    "    ('classifier', MultinomialNB()),  ## train on TF-IDF vectors w/ Naive Bayes classifier\n",
    "])"
   ]
  },
  {
   "cell_type": "code",
   "execution_count": 209,
   "metadata": {},
   "outputs": [],
   "source": [
    "X = dfs['title']\n",
    "y = dfs['weekend_indi']\n",
    "X_train, X_test, y_train, y_test = train_test_split(X, y,test_size=0.4,random_state=2021)"
   ]
  },
  {
   "cell_type": "code",
   "execution_count": 210,
   "metadata": {},
   "outputs": [
    {
     "data": {
      "text/plain": [
       "Pipeline(steps=[('bow', CountVectorizer()), ('tfidf', TfidfTransformer()),\n",
       "                ('classifier', MultinomialNB())])"
      ]
     },
     "execution_count": 210,
     "metadata": {},
     "output_type": "execute_result"
    }
   ],
   "source": [
    "pipeline.fit(X_train,y_train)"
   ]
  },
  {
   "cell_type": "code",
   "execution_count": 211,
   "metadata": {},
   "outputs": [],
   "source": [
    "predictions = pipeline.predict(X_test)"
   ]
  },
  {
   "cell_type": "code",
   "execution_count": 212,
   "metadata": {},
   "outputs": [
    {
     "name": "stdout",
     "output_type": "stream",
     "text": [
      "[[160547     64]\n",
      " [ 43036     48]]\n",
      "              precision    recall  f1-score   support\n",
      "\n",
      "           0       0.79      1.00      0.88    160611\n",
      "           1       0.43      0.00      0.00     43084\n",
      "\n",
      "    accuracy                           0.79    203695\n",
      "   macro avg       0.61      0.50      0.44    203695\n",
      "weighted avg       0.71      0.79      0.70    203695\n",
      "\n"
     ]
    }
   ],
   "source": [
    "print(confusion_matrix(y_test,predictions))\n",
    "print(classification_report(y_test,predictions))"
   ]
  },
  {
   "cell_type": "markdown",
   "metadata": {},
   "source": [
    "#### Tfidf does a better job in my opinion!!! "
   ]
  }
 ],
 "metadata": {
  "kernelspec": {
   "display_name": "Python 3",
   "language": "python",
   "name": "python3"
  },
  "language_info": {
   "codemirror_mode": {
    "name": "ipython",
    "version": 3
   },
   "file_extension": ".py",
   "mimetype": "text/x-python",
   "name": "python",
   "nbconvert_exporter": "python",
   "pygments_lexer": "ipython3",
   "version": "3.7.9"
  }
 },
 "nbformat": 4,
 "nbformat_minor": 4
}
